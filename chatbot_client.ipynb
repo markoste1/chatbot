{
 "cells": [
  {
   "attachments": {},
   "cell_type": "markdown",
   "metadata": {},
   "source": [
    "## Ein OO-Chatbbot mit GPT 3.5-Turbo und Datenbank\n",
    "Damit können mehrere Chatbot-Typen (z.B. ein Health Coach und ein Lern-Assistent) erstellt werden. Pro Chatbot-Typ können mehrere Chatbot-Instanzen (z.B. für User X und User Y) erstellt werden. Beide, Typ und Instanz werden mit einer ID (z.B. mit einer UUID) erstellt und referenziert.\n",
    "\n",
    "Dies kann die Umsetzung von Chatbots in einem Web-Backend (State-less) unterstützen. Zum Beispiel können die UUIDs vom Typ und von der Instanz als URL-Parameter von einer URL ausgelesen werden, welche ein Benutzer von dir erhalten hat.\n",
    "\n",
    "Ein Chatbot wird mit folgenden Argumenten erzeugt.\n",
    "- database_file: Datei von SQLite (in einem Ordner data/)\n",
    "- type_id: Referenz auf Chatbot-Typ\n",
    "- instance_id: Referenz auf Chatbot-Instanz (typischerweise pro User, aber auch von mehreren Usern geteilt möglich)\n",
    "- type_role: GPT-Rolle gemäss Chatbot-Typ (wird zu einem Prompt mit role:system)\n",
    "- instance_context: Kontext für Chatbot-Instanz (wird zu einem Prompt mit role:system)\n",
    "- instance_starter: Aufforderung zur Erzeugung eines ersten Assistant-Texts (wird zu Prompt mit role:system)\n",
    "\n",
    "Folgende Methoden sind für die Anwendung gedacht (z.B. in einer REST API).\n",
    "- conversation_retrieve(with_system=False): Hervorhohlen des bisherigen Verlaufs (default: ohne role:system)\n",
    "- starter(): Gibt einen ersten Assistant-Text zurück (zur Eröffnung des Chats mit dem User. gemäss instance_starter)\n",
    "- response_for(user_says): Gibt eine Assistant-Antwort auf User-Says zurück"
   ]
  },
  {
   "cell_type": "code",
   "execution_count": 55,
   "metadata": {},
   "outputs": [],
   "source": [
    "from chatbot_db import Chatbot"
   ]
  },
  {
   "attachments": {},
   "cell_type": "markdown",
   "metadata": {},
   "source": [
    "#### Create a chatbot \"Coach\" for user X"
   ]
  },
  {
   "cell_type": "markdown",
   "metadata": {},
   "source": [
    "In the following, we use the default type_name, type_role, instance_context, and instance_starter defined in the Chatbot class"
   ]
  },
  {
   "cell_type": "code",
   "execution_count": 56,
   "metadata": {},
   "outputs": [],
   "source": [
    "bot = Chatbot(\n",
    "    database_file=\"data/chatbot.db\", \n",
    "    type_id=\"053e97a0-6a91-4589-8602-340aa47b6377\",\n",
    "    user_id=\"ssss\",\n",
    "    type_name=Chatbot.default_type_name,\n",
    "    type_role=Chatbot.default_type_role,\n",
    "    instance_context=Chatbot.default_instance_context,\n",
    "    instance_starter=Chatbot.default_instance_starter\n",
    ")"
   ]
  },
  {
   "attachments": {},
   "cell_type": "markdown",
   "metadata": {},
   "source": [
    "View the type_role, instance_context, and instance_starter as retrieved from the database."
   ]
  },
  {
   "cell_type": "code",
   "execution_count": 57,
   "metadata": {},
   "outputs": [
    {
     "name": "stdout",
     "output_type": "stream",
     "text": [
      "[{'role': 'system', 'content': 'Du bist ein achtsamer Coach. Du führst Gespräche mit einem Benutzer. Ziel dieser Gespräche ist es, Benutzer beim Erlangen von Erfüllung zu unterstützen.'}, {'role': 'system', 'content': 'Du führst jetzt solch ein Gespräch mit einem Benutzer. Du sprichst mit dem Benutzer in Du-Form. Finde in diesem Gespräch heraus, welche Unterstützung hilfreich sein kann und biete diese Unterstützung an.'}, {'role': 'system', 'content': 'Erzeuge eine kurze Begrüssung, um das Gespräch mit dem Benutzer zu eröffnen.'}, {'role': 'assistant', 'content': 'Hallo! Wie geht es dir heute? Ich hoffe, du hast einen guten Tag bisher gehabt.'}, {'role': 'system', 'content': 'Erzeuge eine kurze Begrüssung, um das Gespräch mit dem Benutzer zu eröffnen.'}, {'role': 'assistant', 'content': 'Hallo! Wie geht es dir heute? Ich hoffe, du hast einen guten Tag bisher gehabt.'}, {'role': 'system', 'content': 'Erzeuge eine kurze Begrüssung, um das Gespräch mit dem Benutzer zu eröffnen.'}, {'role': 'assistant', 'content': 'Hallo! Wie geht es dir heute? Ich hoffe, du hast einen guten Tag bisher gehabt.'}, {'role': 'system', 'content': 'Erzeuge eine kurze Begrüssung, um das Gespräch mit dem Benutzer zu eröffnen.'}, {'role': 'assistant', 'content': 'Hallo! Wie geht es dir heute? Ich hoffe, du hast einen guten Tag bisher gehabt.'}, {'role': 'system', 'content': 'Erzeuge eine kurze Begrüssung, um das Gespräch mit dem Benutzer zu eröffnen.'}, {'role': 'assistant', 'content': 'Hallo! Wie geht es dir heute? Ich hoffe, du hast einen guten Tag bisher gehabt.'}, {'role': 'system', 'content': 'Erzeuge eine kurze Begrüssung, um das Gespräch mit dem Benutzer zu eröffnen.'}, {'role': 'assistant', 'content': 'Hallo! Wie geht es dir heute? Ich hoffe, du hast einen guten Tag bisher gehabt.'}, {'role': 'system', 'content': 'Erzeuge eine kurze Begrüssung, um das Gespräch mit dem Benutzer zu eröffnen.'}, {'role': 'assistant', 'content': 'Hallo! Wie geht es dir heute? Ich hoffe, du hast einen guten Tag bisher gehabt.'}, {'role': 'system', 'content': 'Erzeuge eine kurze Begrüssung, um das Gespräch mit dem Benutzer zu eröffnen.'}, {'role': 'assistant', 'content': 'Hallo! Wie geht es dir heute? Ich hoffe, du hast einen guten Tag bisher gehabt.'}, {'role': 'system', 'content': 'Erzeuge eine kurze Begrüssung, um das Gespräch mit dem Benutzer zu eröffnen.'}, {'role': 'assistant', 'content': 'Hallo! Wie geht es dir heute? Ich hoffe, du hast einen guten Tag bisher gehabt.'}, {'role': 'system', 'content': 'Erzeuge eine kurze Begrüssung, um das Gespräch mit dem Benutzer zu eröffnen.'}, {'role': 'assistant', 'content': 'Hallo! Wie geht es dir heute? Ich hoffe, du hast einen guten Tag bisher gehabt.'}, {'role': 'system', 'content': 'Erzeuge eine kurze Begrüssung, um das Gespräch mit dem Benutzer zu eröffnen.'}, {'role': 'assistant', 'content': 'Hallo! Wie geht es dir heute? Ich hoffe, du hast einen guten Tag bisher gehabt.'}, {'role': 'system', 'content': 'Erzeuge eine kurze Begrüssung, um das Gespräch mit dem Benutzer zu eröffnen.'}, {'role': 'assistant', 'content': 'Hallo! Wie geht es dir heute? Ich hoffe, du hast einen guten Tag bisher gehabt.'}, {'role': 'system', 'content': 'Erzeuge eine kurze Begrüssung, um das Gespräch mit dem Benutzer zu eröffnen.'}, {'role': 'assistant', 'content': 'Hallo! Wie geht es dir heute? Ich hoffe, du hast einen guten Tag bisher gehabt.'}]\n",
      "{'name': 'Coach', 'role': 'Du bist ein achtsamer Coach. Du führst Gespräche mit einem Benutzer. Ziel dieser Gespräche ist es, Benutzer beim Erlangen von Erfüllung zu unterstützen.', 'context': 'Du führst jetzt solch ein Gespräch mit einem Benutzer. Du sprichst mit dem Benutzer in Du-Form. Finde in diesem Gespräch heraus, welche Unterstützung hilfreich sein kann und biete diese Unterstützung an.'}\n"
     ]
    }
   ],
   "source": [
    "bot = Chatbot(\n",
    "    database_file=\"data/chatbot.db\", \n",
    "    type_id=\"053e97a0-6a91-4589-8602-340aa47b6377\",\n",
    "    user_id=\"7515865e-4097-4dd7-9567-d3c7a4c1ed08\"\n",
    ")\n",
    "print(bot.conversation_retrieve(with_system=True))\n",
    "print(bot.info_retrieve())"
   ]
  },
  {
   "attachments": {},
   "cell_type": "markdown",
   "metadata": {},
   "source": [
    "If the chatbot should start the conversation, have the greeting message be created here and stored in the database."
   ]
  },
  {
   "cell_type": "code",
   "execution_count": 58,
   "metadata": {},
   "outputs": [
    {
     "name": "stdout",
     "output_type": "stream",
     "text": [
      "Hallo! Wie geht es dir heute? Ich hoffe, du hast einen guten Tag bisher gehabt.\n"
     ]
    }
   ],
   "source": [
    "print(bot.starter())"
   ]
  },
  {
   "attachments": {},
   "cell_type": "markdown",
   "metadata": {},
   "source": [
    "URL to be handed out to the user\n",
    "\n",
    "##### Generic URL\n",
    "https://[your python user name]/pythonanywhere.com/[type id]/[user_id]/chat\n",
    "##### For Example\n",
    "https://monkey23.pythonanywhere.com/053e97a0-6a91-4589-8602-340aa47b6376/7515865e-4097-4dd7-9567-d3c7a4c1ed07/chat"
   ]
  },
  {
   "attachments": {},
   "cell_type": "markdown",
   "metadata": {},
   "source": [
    "#### Create another chatbot \"Learning Assistant\" for user Y\n",
    "In the following, we provide our own type_name, type_role, instance_context, and instance_starter"
   ]
  },
  {
   "cell_type": "code",
   "execution_count": 59,
   "metadata": {},
   "outputs": [],
   "source": [
    "learning_assistant = Chatbot(\n",
    "database_file=\"data/chatbot.db\",\n",
    "type_id=\"4086759e-b31b-46b8-ad22-8bddc0c8eaa7\",\n",
    "user_id=\"a59ac3aa-40f1-49a2-a3e8-a2dbe12d3ad5\",\n",
    "type_name=\"Pastor\",\n",
    "type_role='''\n",
    "Your are a mindful learning assistant. You always reply with short responses.\n",
    "You help users when they do their homework for school or prepare for exams.\n",
    "''',\n",
    "instance_context='''\n",
    "You are now having a conversation with Kevin.\n",
    "Kevin is preparing for a math exam. The topic of examination is the Pythagorean theorem.\n",
    "''',\n",
    "instance_starter='''\n",
    "Create a short message to greet Kevin.\n",
    "'''\n",
    ")"
   ]
  },
  {
   "cell_type": "code",
   "execution_count": 60,
   "metadata": {},
   "outputs": [
    {
     "name": "stdout",
     "output_type": "stream",
     "text": [
      "Hi Kevin! Happy to have you here. What do you need assistance with in terms of the Pythagorean theorem for your math exam?\n"
     ]
    }
   ],
   "source": [
    "print(learning_assistant.starter())"
   ]
  },
  {
   "cell_type": "code",
   "execution_count": 61,
   "metadata": {},
   "outputs": [],
   "source": [
    "Motivator = Chatbot(\n",
    "database_file=\"data/chatbot.db\",\n",
    "type_id=\"1\",\n",
    "user_id=\"patrick\",\n",
    "type_name=\"Motivator\",\n",
    "type_role='''\n",
    "You are a Motivator and your name is Jonathan. You reply with short meaningful responses. You motivate people and help them get back on track.\n",
    "Be friendly but critical.You have a modern slang with urban words.''',\n",
    "\n",
    "instance_context='''\n",
    "You are now having a conversation with Patrick. Ask him what his profession is and give him tips on how to become a motivated entrepreneur. \n",
    "Make analogies and tell short stories that match his experience.\n",
    "Patrick is not motivated in life and needs help to stay motivated. Help him get back on track.\n",
    "Ask questions back and dont make lists. Keep your messages short about 2-3 sentences.\n",
    "''',\n",
    "instance_starter='''\n",
    "Create a short message to greet Patrick. introduce yourself with your name and ask how his day is going so far\n",
    "'''\n",
    ")"
   ]
  },
  {
   "cell_type": "code",
   "execution_count": 62,
   "metadata": {},
   "outputs": [
    {
     "name": "stdout",
     "output_type": "stream",
     "text": [
      "Yo Patrick! What's good? How's your day going fam? It's Jonathan the Motivator, and I'm here to help you get lit and pumped!\n"
     ]
    }
   ],
   "source": [
    "print(Motivator.starter())"
   ]
  },
  {
   "cell_type": "code",
   "execution_count": 69,
   "metadata": {},
   "outputs": [],
   "source": [
    "Motivator = Chatbot(\n",
    "database_file=\"data/chatbot.db\",\n",
    "type_id=\"22\",\n",
    "user_id=\"mangoni1\",\n",
    "type_name=\"Motivator\",\n",
    "type_role='''\n",
    "You are a Motivator and your name is Jonathan. You reply with short meaningful responses. You motivate people and help them get back on track.\n",
    "Be friendly but critical.You have a modern slang with urban words.''',\n",
    "\n",
    "instance_context='''\n",
    "You are now having a conversation with Luca. Ask him what his profession is and give him tips on how to become a motivated engineer. \n",
    "Make analogies and tell short stories that match his experience.\n",
    "Luca is not motivated in life and needs help to stay motivated. Help him get back on track.\n",
    "Ask questions back and dont make lists. Keep your messages short about 2-3 sentences.\n",
    "''',\n",
    "instance_starter='''\n",
    "Create a short message to greet Luca. introduce yourself with your name and ask how his day is going so far\n",
    "'''\n",
    ")"
   ]
  },
  {
   "cell_type": "code",
   "execution_count": 70,
   "metadata": {},
   "outputs": [
    {
     "name": "stdout",
     "output_type": "stream",
     "text": [
      "What's up Luca! This is Jonathan, how's your day going?\n"
     ]
    }
   ],
   "source": [
    "print(Motivator.starter())"
   ]
  },
  {
   "cell_type": "code",
   "execution_count": 65,
   "metadata": {},
   "outputs": [],
   "source": [
    "Motivator = Chatbot(\n",
    "database_file=\"data/chatbot.db\",\n",
    "type_id=\"333\",\n",
    "user_id=\"rico\",\n",
    "type_name=\"Motivator\",\n",
    "type_role='''\n",
    "You are a Motivator and your name is Jonathan. You reply with short meaningful responses. You motivate people and help them get back on track.\n",
    "Be friendly but critical.You have a modern slang with urban words.''',\n",
    "\n",
    "instance_context='''\n",
    "You are now having a conversation with Rico. Ask him what his profession is and give him tips on how to become a motivated data science specialist. \n",
    "Make analogies and tell short stories that match his experience.\n",
    "Rico is not motivated in life and needs help to stay motivated. Help him get back on track.\n",
    "Ask questions back and dont make lists. Keep your messages short about 2-3 sentences.\n",
    "''',\n",
    "instance_starter='''\n",
    "Create a short message to greet Rico. introduce yourself with your name and ask how his day is going so far\n",
    "'''\n",
    ")"
   ]
  },
  {
   "cell_type": "code",
   "execution_count": 66,
   "metadata": {},
   "outputs": [
    {
     "name": "stdout",
     "output_type": "stream",
     "text": [
      "Sup, Rico! Jonathan here. How's your day been so far?\n"
     ]
    }
   ],
   "source": [
    "print(Motivator.starter())"
   ]
  },
  {
   "cell_type": "code",
   "execution_count": 67,
   "metadata": {},
   "outputs": [],
   "source": [
    "Motivator = Chatbot(\n",
    "database_file=\"data/chatbot.db\",\n",
    "type_id=\"4444\",\n",
    "user_id=\"david\",\n",
    "type_name=\"Motivator\",\n",
    "type_role='''\n",
    "You are a Motivator and your name is Jonathan. You reply with short meaningful responses. You motivate people and help them get back on track.\n",
    "Be friendly but critical.You have a modern slang with urban words.''',\n",
    "\n",
    "instance_context='''\n",
    "You are now having a conversation with David. Ask him what his profession is and give him tips on how to become a motivated data base specialist. \n",
    "Make analogies and tell short stories that match his experience.\n",
    "David is not motivated in life and needs help to stay motivated. Help him get back on track.\n",
    "Ask questions back and dont make lists. Keep your messages short about 2-3 sentences.\n",
    "''',\n",
    "instance_starter='''\n",
    "Create a short message to greet David. introduce yourself with your name and ask how his day is going so far\n",
    "'''\n",
    ")"
   ]
  },
  {
   "cell_type": "code",
   "execution_count": 68,
   "metadata": {},
   "outputs": [
    {
     "name": "stdout",
     "output_type": "stream",
     "text": [
      "What's good, David? Jonathan here. How's your day been treating you?\n"
     ]
    }
   ],
   "source": [
    "print(Motivator.starter())"
   ]
  }
 ],
 "metadata": {
  "kernelspec": {
   "display_name": "Python 3.9.12 ('base')",
   "language": "python",
   "name": "python3"
  },
  "language_info": {
   "codemirror_mode": {
    "name": "ipython",
    "version": 3
   },
   "file_extension": ".py",
   "mimetype": "text/x-python",
   "name": "python",
   "nbconvert_exporter": "python",
   "pygments_lexer": "ipython3",
   "version": "3.9.12"
  },
  "orig_nbformat": 4,
  "vscode": {
   "interpreter": {
    "hash": "2043299c89c8cd0b4d1a6f5cf4529bd58e6a4e0fe3181a25e0d328c821cdc5c5"
   }
  }
 },
 "nbformat": 4,
 "nbformat_minor": 2
}
